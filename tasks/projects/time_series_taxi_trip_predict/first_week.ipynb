{
 "cells": [
  {
   "cell_type": "code",
   "execution_count": 1,
   "metadata": {},
   "outputs": [],
   "source": [
    "from __future__ import division\n",
    "import pandas as pd\n",
    "import numpy as np\n",
    "import matplotlib.pyplot as plt\n",
    "from scipy import stats as sts\n",
    "import seaborn as sns\n",
    "import datetime\n",
    "%matplotlib inline"
   ]
  },
  {
   "cell_type": "markdown",
   "metadata": {},
   "source": [
    "Границы Нью-Йорка."
   ]
  },
  {
   "cell_type": "code",
   "execution_count": 2,
   "metadata": {},
   "outputs": [],
   "source": [
    "nyc_longitude_west = -74.25559\n",
    "nyc_longitude_east = -73.70001\n",
    "nyc_latitude_north = 40.91553\n",
    "nyc_latitude_south = 40.49612"
   ]
  },
  {
   "cell_type": "markdown",
   "metadata": {},
   "source": [
    "Загружаем необходимые данные."
   ]
  },
  {
   "cell_type": "code",
   "execution_count": 4,
   "metadata": {},
   "outputs": [
    {
     "data": {
      "text/html": [
       "<div>\n",
       "<style scoped>\n",
       "    .dataframe tbody tr th:only-of-type {\n",
       "        vertical-align: middle;\n",
       "    }\n",
       "\n",
       "    .dataframe tbody tr th {\n",
       "        vertical-align: top;\n",
       "    }\n",
       "\n",
       "    .dataframe thead th {\n",
       "        text-align: right;\n",
       "    }\n",
       "</style>\n",
       "<table border=\"1\" class=\"dataframe\">\n",
       "  <thead>\n",
       "    <tr style=\"text-align: right;\">\n",
       "      <th></th>\n",
       "      <th>tpep_pickup_datetime</th>\n",
       "      <th>tpep_dropoff_datetime</th>\n",
       "      <th>passenger_count</th>\n",
       "      <th>trip_distance</th>\n",
       "      <th>pickup_longitude</th>\n",
       "      <th>pickup_latitude</th>\n",
       "    </tr>\n",
       "  </thead>\n",
       "  <tbody>\n",
       "    <tr>\n",
       "      <th>0</th>\n",
       "      <td>2016-05-01</td>\n",
       "      <td>2016-05-01 00:17:31</td>\n",
       "      <td>1</td>\n",
       "      <td>3.60</td>\n",
       "      <td>-73.985901</td>\n",
       "      <td>40.768040</td>\n",
       "    </tr>\n",
       "    <tr>\n",
       "      <th>1</th>\n",
       "      <td>2016-05-01</td>\n",
       "      <td>2016-05-01 00:07:31</td>\n",
       "      <td>1</td>\n",
       "      <td>1.68</td>\n",
       "      <td>-73.991577</td>\n",
       "      <td>40.744751</td>\n",
       "    </tr>\n",
       "    <tr>\n",
       "      <th>2</th>\n",
       "      <td>2016-05-01</td>\n",
       "      <td>2016-05-01 00:07:01</td>\n",
       "      <td>6</td>\n",
       "      <td>1.09</td>\n",
       "      <td>-73.993073</td>\n",
       "      <td>40.741573</td>\n",
       "    </tr>\n",
       "    <tr>\n",
       "      <th>3</th>\n",
       "      <td>2016-05-01</td>\n",
       "      <td>2016-05-01 00:19:47</td>\n",
       "      <td>1</td>\n",
       "      <td>4.21</td>\n",
       "      <td>-73.991943</td>\n",
       "      <td>40.684601</td>\n",
       "    </tr>\n",
       "    <tr>\n",
       "      <th>4</th>\n",
       "      <td>2016-05-01</td>\n",
       "      <td>2016-05-01 00:06:39</td>\n",
       "      <td>1</td>\n",
       "      <td>0.56</td>\n",
       "      <td>-74.005280</td>\n",
       "      <td>40.740192</td>\n",
       "    </tr>\n",
       "    <tr>\n",
       "      <th>5</th>\n",
       "      <td>2016-05-01</td>\n",
       "      <td>2016-05-01 00:05:19</td>\n",
       "      <td>2</td>\n",
       "      <td>0.63</td>\n",
       "      <td>-73.979294</td>\n",
       "      <td>40.755764</td>\n",
       "    </tr>\n",
       "    <tr>\n",
       "      <th>6</th>\n",
       "      <td>2016-05-01</td>\n",
       "      <td>2016-05-01 00:15:43</td>\n",
       "      <td>1</td>\n",
       "      <td>6.68</td>\n",
       "      <td>-73.981544</td>\n",
       "      <td>40.780739</td>\n",
       "    </tr>\n",
       "    <tr>\n",
       "      <th>7</th>\n",
       "      <td>2016-05-01</td>\n",
       "      <td>2016-05-01 00:06:31</td>\n",
       "      <td>1</td>\n",
       "      <td>1.48</td>\n",
       "      <td>-73.987198</td>\n",
       "      <td>40.750507</td>\n",
       "    </tr>\n",
       "    <tr>\n",
       "      <th>8</th>\n",
       "      <td>2016-05-01</td>\n",
       "      <td>2016-05-01 00:00:00</td>\n",
       "      <td>4</td>\n",
       "      <td>1.59</td>\n",
       "      <td>-74.001610</td>\n",
       "      <td>40.740990</td>\n",
       "    </tr>\n",
       "    <tr>\n",
       "      <th>9</th>\n",
       "      <td>2016-05-01</td>\n",
       "      <td>2016-05-01 00:00:00</td>\n",
       "      <td>3</td>\n",
       "      <td>3.52</td>\n",
       "      <td>-74.013855</td>\n",
       "      <td>40.714119</td>\n",
       "    </tr>\n",
       "  </tbody>\n",
       "</table>\n",
       "</div>"
      ],
      "text/plain": [
       "  tpep_pickup_datetime tpep_dropoff_datetime  passenger_count  trip_distance  \\\n",
       "0           2016-05-01   2016-05-01 00:17:31                1           3.60   \n",
       "1           2016-05-01   2016-05-01 00:07:31                1           1.68   \n",
       "2           2016-05-01   2016-05-01 00:07:01                6           1.09   \n",
       "3           2016-05-01   2016-05-01 00:19:47                1           4.21   \n",
       "4           2016-05-01   2016-05-01 00:06:39                1           0.56   \n",
       "5           2016-05-01   2016-05-01 00:05:19                2           0.63   \n",
       "6           2016-05-01   2016-05-01 00:15:43                1           6.68   \n",
       "7           2016-05-01   2016-05-01 00:06:31                1           1.48   \n",
       "8           2016-05-01   2016-05-01 00:00:00                4           1.59   \n",
       "9           2016-05-01   2016-05-01 00:00:00                3           3.52   \n",
       "\n",
       "   pickup_longitude  pickup_latitude  \n",
       "0        -73.985901        40.768040  \n",
       "1        -73.991577        40.744751  \n",
       "2        -73.993073        40.741573  \n",
       "3        -73.991943        40.684601  \n",
       "4        -74.005280        40.740192  \n",
       "5        -73.979294        40.755764  \n",
       "6        -73.981544        40.780739  \n",
       "7        -73.987198        40.750507  \n",
       "8        -74.001610        40.740990  \n",
       "9        -74.013855        40.714119  "
      ]
     },
     "execution_count": 4,
     "metadata": {},
     "output_type": "execute_result"
    }
   ],
   "source": [
    "data = pd.read_csv(\"data/yellow_tripdata_2016-05.csv\", \n",
    "                   parse_dates=['tpep_pickup_datetime', 'tpep_dropoff_datetime'], \n",
    "                   usecols=['tpep_pickup_datetime', 'tpep_dropoff_datetime',\n",
    "                            'passenger_count', 'trip_distance', \n",
    "                            'pickup_longitude', 'pickup_latitude'])\n",
    "data.head(10)"
   ]
  },
  {
   "cell_type": "code",
   "execution_count": 5,
   "metadata": {
    "scrolled": true
   },
   "outputs": [
    {
     "name": "stdout",
     "output_type": "stream",
     "text": [
      "<class 'pandas.core.frame.DataFrame'>\n",
      "RangeIndex: 11836853 entries, 0 to 11836852\n",
      "Data columns (total 6 columns):\n",
      "tpep_pickup_datetime     datetime64[ns]\n",
      "tpep_dropoff_datetime    datetime64[ns]\n",
      "passenger_count          int64\n",
      "trip_distance            float64\n",
      "pickup_longitude         float64\n",
      "pickup_latitude          float64\n",
      "dtypes: datetime64[ns](2), float64(3), int64(1)\n",
      "memory usage: 541.8 MB\n"
     ]
    }
   ],
   "source": [
    "data.info()"
   ]
  },
  {
   "cell_type": "markdown",
   "metadata": {
    "collapsed": true
   },
   "source": [
    "Удаляем маршруты с нулевой длительностью, нулевым количеством пассажиров, нулевым расстоянием по счетчику и те маршруты, которые начинаются не внутри Нью Йорка."
   ]
  },
  {
   "cell_type": "code",
   "execution_count": 6,
   "metadata": {},
   "outputs": [
    {
     "name": "stdout",
     "output_type": "stream",
     "text": [
      "11626521\n",
      "Wall time: 3.85 s\n"
     ]
    }
   ],
   "source": [
    "%%time\n",
    "drop_indexes = data[(data['tpep_dropoff_datetime'] == data['tpep_pickup_datetime']) | \n",
    "                    (data['passenger_count'] == 0) | \n",
    "                    (data['trip_distance'] == 0) | \n",
    "                    (nyc_longitude_west > data['pickup_longitude']) | (data['pickup_longitude'] > nyc_longitude_east) | \n",
    "                    (nyc_latitude_south > data['pickup_latitude']) | (data['pickup_latitude'] > nyc_latitude_north)].index\n",
    "\n",
    "data.drop(drop_indexes, inplace=True)\n",
    "print(len(data))"
   ]
  },
  {
   "cell_type": "code",
   "execution_count": 7,
   "metadata": {},
   "outputs": [
    {
     "data": {
      "text/html": [
       "<div>\n",
       "<style scoped>\n",
       "    .dataframe tbody tr th:only-of-type {\n",
       "        vertical-align: middle;\n",
       "    }\n",
       "\n",
       "    .dataframe tbody tr th {\n",
       "        vertical-align: top;\n",
       "    }\n",
       "\n",
       "    .dataframe thead th {\n",
       "        text-align: right;\n",
       "    }\n",
       "</style>\n",
       "<table border=\"1\" class=\"dataframe\">\n",
       "  <thead>\n",
       "    <tr style=\"text-align: right;\">\n",
       "      <th></th>\n",
       "      <th>tpep_pickup_datetime</th>\n",
       "      <th>tpep_dropoff_datetime</th>\n",
       "      <th>passenger_count</th>\n",
       "      <th>trip_distance</th>\n",
       "      <th>pickup_longitude</th>\n",
       "      <th>pickup_latitude</th>\n",
       "    </tr>\n",
       "  </thead>\n",
       "  <tbody>\n",
       "    <tr>\n",
       "      <th>0</th>\n",
       "      <td>2016-05-01 00:00:00</td>\n",
       "      <td>2016-05-01 00:17:31</td>\n",
       "      <td>1</td>\n",
       "      <td>3.60</td>\n",
       "      <td>-73.985901</td>\n",
       "      <td>40.768040</td>\n",
       "    </tr>\n",
       "    <tr>\n",
       "      <th>1</th>\n",
       "      <td>2016-05-01 00:00:00</td>\n",
       "      <td>2016-05-01 00:07:31</td>\n",
       "      <td>1</td>\n",
       "      <td>1.68</td>\n",
       "      <td>-73.991577</td>\n",
       "      <td>40.744751</td>\n",
       "    </tr>\n",
       "    <tr>\n",
       "      <th>2</th>\n",
       "      <td>2016-05-01 00:00:00</td>\n",
       "      <td>2016-05-01 00:07:01</td>\n",
       "      <td>6</td>\n",
       "      <td>1.09</td>\n",
       "      <td>-73.993073</td>\n",
       "      <td>40.741573</td>\n",
       "    </tr>\n",
       "    <tr>\n",
       "      <th>3</th>\n",
       "      <td>2016-05-01 00:00:00</td>\n",
       "      <td>2016-05-01 00:19:47</td>\n",
       "      <td>1</td>\n",
       "      <td>4.21</td>\n",
       "      <td>-73.991943</td>\n",
       "      <td>40.684601</td>\n",
       "    </tr>\n",
       "    <tr>\n",
       "      <th>4</th>\n",
       "      <td>2016-05-01 00:00:00</td>\n",
       "      <td>2016-05-01 00:06:39</td>\n",
       "      <td>1</td>\n",
       "      <td>0.56</td>\n",
       "      <td>-74.005280</td>\n",
       "      <td>40.740192</td>\n",
       "    </tr>\n",
       "    <tr>\n",
       "      <th>5</th>\n",
       "      <td>2016-05-01 00:00:00</td>\n",
       "      <td>2016-05-01 00:05:19</td>\n",
       "      <td>2</td>\n",
       "      <td>0.63</td>\n",
       "      <td>-73.979294</td>\n",
       "      <td>40.755764</td>\n",
       "    </tr>\n",
       "    <tr>\n",
       "      <th>6</th>\n",
       "      <td>2016-05-01 00:00:00</td>\n",
       "      <td>2016-05-01 00:15:43</td>\n",
       "      <td>1</td>\n",
       "      <td>6.68</td>\n",
       "      <td>-73.981544</td>\n",
       "      <td>40.780739</td>\n",
       "    </tr>\n",
       "    <tr>\n",
       "      <th>7</th>\n",
       "      <td>2016-05-01 00:00:00</td>\n",
       "      <td>2016-05-01 00:06:31</td>\n",
       "      <td>1</td>\n",
       "      <td>1.48</td>\n",
       "      <td>-73.987198</td>\n",
       "      <td>40.750507</td>\n",
       "    </tr>\n",
       "    <tr>\n",
       "      <th>11</th>\n",
       "      <td>2016-05-01 00:00:01</td>\n",
       "      <td>2016-05-01 00:15:50</td>\n",
       "      <td>1</td>\n",
       "      <td>5.20</td>\n",
       "      <td>-73.951302</td>\n",
       "      <td>40.774345</td>\n",
       "    </tr>\n",
       "    <tr>\n",
       "      <th>12</th>\n",
       "      <td>2016-05-01 00:00:01</td>\n",
       "      <td>2016-05-01 00:13:28</td>\n",
       "      <td>5</td>\n",
       "      <td>4.75</td>\n",
       "      <td>-73.983498</td>\n",
       "      <td>40.726082</td>\n",
       "    </tr>\n",
       "  </tbody>\n",
       "</table>\n",
       "</div>"
      ],
      "text/plain": [
       "   tpep_pickup_datetime tpep_dropoff_datetime  passenger_count  trip_distance  \\\n",
       "0   2016-05-01 00:00:00   2016-05-01 00:17:31                1           3.60   \n",
       "1   2016-05-01 00:00:00   2016-05-01 00:07:31                1           1.68   \n",
       "2   2016-05-01 00:00:00   2016-05-01 00:07:01                6           1.09   \n",
       "3   2016-05-01 00:00:00   2016-05-01 00:19:47                1           4.21   \n",
       "4   2016-05-01 00:00:00   2016-05-01 00:06:39                1           0.56   \n",
       "5   2016-05-01 00:00:00   2016-05-01 00:05:19                2           0.63   \n",
       "6   2016-05-01 00:00:00   2016-05-01 00:15:43                1           6.68   \n",
       "7   2016-05-01 00:00:00   2016-05-01 00:06:31                1           1.48   \n",
       "11  2016-05-01 00:00:01   2016-05-01 00:15:50                1           5.20   \n",
       "12  2016-05-01 00:00:01   2016-05-01 00:13:28                5           4.75   \n",
       "\n",
       "    pickup_longitude  pickup_latitude  \n",
       "0         -73.985901        40.768040  \n",
       "1         -73.991577        40.744751  \n",
       "2         -73.993073        40.741573  \n",
       "3         -73.991943        40.684601  \n",
       "4         -74.005280        40.740192  \n",
       "5         -73.979294        40.755764  \n",
       "6         -73.981544        40.780739  \n",
       "7         -73.987198        40.750507  \n",
       "11        -73.951302        40.774345  \n",
       "12        -73.983498        40.726082  "
      ]
     },
     "execution_count": 7,
     "metadata": {},
     "output_type": "execute_result"
    }
   ],
   "source": [
    "data.head(10)"
   ]
  },
  {
   "cell_type": "markdown",
   "metadata": {},
   "source": [
    "Удаляем ненужные далее столбцы."
   ]
  },
  {
   "cell_type": "code",
   "execution_count": 8,
   "metadata": {},
   "outputs": [],
   "source": [
    "data.drop(['tpep_dropoff_datetime', 'passenger_count', 'trip_distance'], axis = 1, inplace=True)"
   ]
  },
  {
   "cell_type": "code",
   "execution_count": 9,
   "metadata": {},
   "outputs": [
    {
     "name": "stdout",
     "output_type": "stream",
     "text": [
      "<class 'pandas.core.frame.DataFrame'>\n",
      "Int64Index: 11626521 entries, 0 to 11836841\n",
      "Data columns (total 3 columns):\n",
      "tpep_pickup_datetime    datetime64[ns]\n",
      "pickup_longitude        float64\n",
      "pickup_latitude         float64\n",
      "dtypes: datetime64[ns](1), float64(2)\n",
      "memory usage: 354.8 MB\n"
     ]
    }
   ],
   "source": [
    "data.info()"
   ]
  },
  {
   "cell_type": "markdown",
   "metadata": {},
   "source": [
    "Оставляем от времени поездки только часы."
   ]
  },
  {
   "cell_type": "code",
   "execution_count": 10,
   "metadata": {},
   "outputs": [
    {
     "data": {
      "text/html": [
       "<div>\n",
       "<style scoped>\n",
       "    .dataframe tbody tr th:only-of-type {\n",
       "        vertical-align: middle;\n",
       "    }\n",
       "\n",
       "    .dataframe tbody tr th {\n",
       "        vertical-align: top;\n",
       "    }\n",
       "\n",
       "    .dataframe thead th {\n",
       "        text-align: right;\n",
       "    }\n",
       "</style>\n",
       "<table border=\"1\" class=\"dataframe\">\n",
       "  <thead>\n",
       "    <tr style=\"text-align: right;\">\n",
       "      <th></th>\n",
       "      <th>tpep_pickup_datetime</th>\n",
       "      <th>pickup_longitude</th>\n",
       "      <th>pickup_latitude</th>\n",
       "    </tr>\n",
       "  </thead>\n",
       "  <tbody>\n",
       "    <tr>\n",
       "      <th>0</th>\n",
       "      <td>2016-05-01</td>\n",
       "      <td>-73.985901</td>\n",
       "      <td>40.768040</td>\n",
       "    </tr>\n",
       "    <tr>\n",
       "      <th>1</th>\n",
       "      <td>2016-05-01</td>\n",
       "      <td>-73.991577</td>\n",
       "      <td>40.744751</td>\n",
       "    </tr>\n",
       "    <tr>\n",
       "      <th>2</th>\n",
       "      <td>2016-05-01</td>\n",
       "      <td>-73.993073</td>\n",
       "      <td>40.741573</td>\n",
       "    </tr>\n",
       "    <tr>\n",
       "      <th>3</th>\n",
       "      <td>2016-05-01</td>\n",
       "      <td>-73.991943</td>\n",
       "      <td>40.684601</td>\n",
       "    </tr>\n",
       "    <tr>\n",
       "      <th>4</th>\n",
       "      <td>2016-05-01</td>\n",
       "      <td>-74.005280</td>\n",
       "      <td>40.740192</td>\n",
       "    </tr>\n",
       "    <tr>\n",
       "      <th>5</th>\n",
       "      <td>2016-05-01</td>\n",
       "      <td>-73.979294</td>\n",
       "      <td>40.755764</td>\n",
       "    </tr>\n",
       "    <tr>\n",
       "      <th>6</th>\n",
       "      <td>2016-05-01</td>\n",
       "      <td>-73.981544</td>\n",
       "      <td>40.780739</td>\n",
       "    </tr>\n",
       "    <tr>\n",
       "      <th>7</th>\n",
       "      <td>2016-05-01</td>\n",
       "      <td>-73.987198</td>\n",
       "      <td>40.750507</td>\n",
       "    </tr>\n",
       "    <tr>\n",
       "      <th>11</th>\n",
       "      <td>2016-05-01</td>\n",
       "      <td>-73.951302</td>\n",
       "      <td>40.774345</td>\n",
       "    </tr>\n",
       "    <tr>\n",
       "      <th>12</th>\n",
       "      <td>2016-05-01</td>\n",
       "      <td>-73.983498</td>\n",
       "      <td>40.726082</td>\n",
       "    </tr>\n",
       "  </tbody>\n",
       "</table>\n",
       "</div>"
      ],
      "text/plain": [
       "   tpep_pickup_datetime  pickup_longitude  pickup_latitude\n",
       "0            2016-05-01        -73.985901        40.768040\n",
       "1            2016-05-01        -73.991577        40.744751\n",
       "2            2016-05-01        -73.993073        40.741573\n",
       "3            2016-05-01        -73.991943        40.684601\n",
       "4            2016-05-01        -74.005280        40.740192\n",
       "5            2016-05-01        -73.979294        40.755764\n",
       "6            2016-05-01        -73.981544        40.780739\n",
       "7            2016-05-01        -73.987198        40.750507\n",
       "11           2016-05-01        -73.951302        40.774345\n",
       "12           2016-05-01        -73.983498        40.726082"
      ]
     },
     "execution_count": 10,
     "metadata": {},
     "output_type": "execute_result"
    }
   ],
   "source": [
    "data['tpep_pickup_datetime'] = data['tpep_pickup_datetime'].apply(lambda dt: dt.replace(minute=0, second=0, microsecond=0))\n",
    "data.head(10)"
   ]
  },
  {
   "cell_type": "markdown",
   "metadata": {},
   "source": [
    "Выводим регионы, вводим функции для нахождения региона по долготе и широте. Первая функция использовалась для проверки последующих."
   ]
  },
  {
   "cell_type": "code",
   "execution_count": 11,
   "metadata": {},
   "outputs": [
    {
     "data": {
      "text/html": [
       "<div>\n",
       "<style scoped>\n",
       "    .dataframe tbody tr th:only-of-type {\n",
       "        vertical-align: middle;\n",
       "    }\n",
       "\n",
       "    .dataframe tbody tr th {\n",
       "        vertical-align: top;\n",
       "    }\n",
       "\n",
       "    .dataframe thead th {\n",
       "        text-align: right;\n",
       "    }\n",
       "</style>\n",
       "<table border=\"1\" class=\"dataframe\">\n",
       "  <thead>\n",
       "    <tr style=\"text-align: right;\">\n",
       "      <th></th>\n",
       "      <th>region</th>\n",
       "      <th>west</th>\n",
       "      <th>east</th>\n",
       "      <th>south</th>\n",
       "      <th>north</th>\n",
       "    </tr>\n",
       "  </thead>\n",
       "  <tbody>\n",
       "    <tr>\n",
       "      <th>0</th>\n",
       "      <td>1</td>\n",
       "      <td>-74.25559</td>\n",
       "      <td>-74.244478</td>\n",
       "      <td>40.496120</td>\n",
       "      <td>40.504508</td>\n",
       "    </tr>\n",
       "    <tr>\n",
       "      <th>1</th>\n",
       "      <td>2</td>\n",
       "      <td>-74.25559</td>\n",
       "      <td>-74.244478</td>\n",
       "      <td>40.504508</td>\n",
       "      <td>40.512896</td>\n",
       "    </tr>\n",
       "    <tr>\n",
       "      <th>2</th>\n",
       "      <td>3</td>\n",
       "      <td>-74.25559</td>\n",
       "      <td>-74.244478</td>\n",
       "      <td>40.512896</td>\n",
       "      <td>40.521285</td>\n",
       "    </tr>\n",
       "    <tr>\n",
       "      <th>3</th>\n",
       "      <td>4</td>\n",
       "      <td>-74.25559</td>\n",
       "      <td>-74.244478</td>\n",
       "      <td>40.521285</td>\n",
       "      <td>40.529673</td>\n",
       "    </tr>\n",
       "    <tr>\n",
       "      <th>4</th>\n",
       "      <td>5</td>\n",
       "      <td>-74.25559</td>\n",
       "      <td>-74.244478</td>\n",
       "      <td>40.529673</td>\n",
       "      <td>40.538061</td>\n",
       "    </tr>\n",
       "  </tbody>\n",
       "</table>\n",
       "</div>"
      ],
      "text/plain": [
       "   region      west       east      south      north\n",
       "0       1 -74.25559 -74.244478  40.496120  40.504508\n",
       "1       2 -74.25559 -74.244478  40.504508  40.512896\n",
       "2       3 -74.25559 -74.244478  40.512896  40.521285\n",
       "3       4 -74.25559 -74.244478  40.521285  40.529673\n",
       "4       5 -74.25559 -74.244478  40.529673  40.538061"
      ]
     },
     "execution_count": 11,
     "metadata": {},
     "output_type": "execute_result"
    }
   ],
   "source": [
    "regions = pd.read_csv(\"data/regions.csv\", delimiter=';')\n",
    "regions.head()"
   ]
  },
  {
   "cell_type": "code",
   "execution_count": 12,
   "metadata": {},
   "outputs": [
    {
     "name": "stdout",
     "output_type": "stream",
     "text": [
      "tpep_pickup_datetime    2016-05-01 00:00:00\n",
      "pickup_longitude                   -73.9859\n",
      "pickup_latitude                      40.768\n",
      "Name: 0, dtype: object\n"
     ]
    },
    {
     "name": "stderr",
     "output_type": "stream",
     "text": [
      "C:\\Python27\\lib\\site-packages\\ipykernel_launcher.py:7: DeprecationWarning: \n",
      ".ix is deprecated. Please use\n",
      ".loc for label based indexing or\n",
      ".iloc for positional indexing\n",
      "\n",
      "See the documentation here:\n",
      "http://pandas.pydata.org/pandas-docs/stable/indexing.html#ix-indexer-is-deprecated\n",
      "  import sys\n"
     ]
    },
    {
     "data": {
      "text/plain": [
       "1233"
      ]
     },
     "execution_count": 12,
     "metadata": {},
     "output_type": "execute_result"
    }
   ],
   "source": [
    "def check_longit_latit(regions, data):\n",
    "    print data\n",
    "    return ((regions.west <= data.pickup_longitude) & \n",
    "            (regions.east > data.pickup_longitude) &\n",
    "            (regions.south <= data.pickup_latitude) &\n",
    "            (regions.north > data.pickup_latitude))\n",
    "regions[check_longit_latit(regions, data.ix[0])].region.values[0]"
   ]
  },
  {
   "cell_type": "code",
   "execution_count": 13,
   "metadata": {},
   "outputs": [
    {
     "name": "stderr",
     "output_type": "stream",
     "text": [
      "C:\\Python27\\lib\\site-packages\\ipykernel_launcher.py:7: DeprecationWarning: \n",
      ".ix is deprecated. Please use\n",
      ".loc for label based indexing or\n",
      ".iloc for positional indexing\n",
      "\n",
      "See the documentation here:\n",
      "http://pandas.pydata.org/pandas-docs/stable/indexing.html#ix-indexer-is-deprecated\n",
      "  import sys\n"
     ]
    },
    {
     "data": {
      "text/plain": [
       "1233.0"
      ]
     },
     "execution_count": 13,
     "metadata": {},
     "output_type": "execute_result"
    }
   ],
   "source": [
    "def long_reg(val):\n",
    "    return np.ceil((val - nyc_longitude_west)*50.0/(nyc_longitude_east - nyc_longitude_west))\n",
    "def lat_reg(val):\n",
    "    return np.ceil((val - nyc_latitude_south)*50.0/(nyc_latitude_north - nyc_latitude_south))\n",
    "def find_reg(longitude, latitude):\n",
    "    return (long_reg(longitude) - 1)*50.0 + lat_reg(latitude)\n",
    "find_reg(data.ix[0].pickup_longitude, data.ix[0].pickup_latitude)"
   ]
  },
  {
   "cell_type": "markdown",
   "metadata": {},
   "source": [
    "Далее применияем функции long_reg, lat_reg для нахождения региона по долготе и широте."
   ]
  },
  {
   "cell_type": "code",
   "execution_count": 15,
   "metadata": {},
   "outputs": [
    {
     "data": {
      "text/html": [
       "<div>\n",
       "<style scoped>\n",
       "    .dataframe tbody tr th:only-of-type {\n",
       "        vertical-align: middle;\n",
       "    }\n",
       "\n",
       "    .dataframe tbody tr th {\n",
       "        vertical-align: top;\n",
       "    }\n",
       "\n",
       "    .dataframe thead th {\n",
       "        text-align: right;\n",
       "    }\n",
       "</style>\n",
       "<table border=\"1\" class=\"dataframe\">\n",
       "  <thead>\n",
       "    <tr style=\"text-align: right;\">\n",
       "      <th></th>\n",
       "      <th>tpep_pickup_datetime</th>\n",
       "      <th>pickup_longitude</th>\n",
       "      <th>pickup_latitude</th>\n",
       "    </tr>\n",
       "  </thead>\n",
       "  <tbody>\n",
       "    <tr>\n",
       "      <th>0</th>\n",
       "      <td>2016-05-01</td>\n",
       "      <td>8933.0</td>\n",
       "      <td>-893.0</td>\n",
       "    </tr>\n",
       "    <tr>\n",
       "      <th>1</th>\n",
       "      <td>2016-05-01</td>\n",
       "      <td>8843.0</td>\n",
       "      <td>-1251.0</td>\n",
       "    </tr>\n",
       "    <tr>\n",
       "      <th>2</th>\n",
       "      <td>2016-05-01</td>\n",
       "      <td>8843.0</td>\n",
       "      <td>-1251.0</td>\n",
       "    </tr>\n",
       "    <tr>\n",
       "      <th>3</th>\n",
       "      <td>2016-05-01</td>\n",
       "      <td>8843.0</td>\n",
       "      <td>-2085.0</td>\n",
       "    </tr>\n",
       "    <tr>\n",
       "      <th>4</th>\n",
       "      <td>2016-05-01</td>\n",
       "      <td>8753.0</td>\n",
       "      <td>-1251.0</td>\n",
       "    </tr>\n",
       "  </tbody>\n",
       "</table>\n",
       "</div>"
      ],
      "text/plain": [
       "  tpep_pickup_datetime  pickup_longitude  pickup_latitude\n",
       "0           2016-05-01            8933.0           -893.0\n",
       "1           2016-05-01            8843.0          -1251.0\n",
       "2           2016-05-01            8843.0          -1251.0\n",
       "3           2016-05-01            8843.0          -2085.0\n",
       "4           2016-05-01            8753.0          -1251.0"
      ]
     },
     "execution_count": 15,
     "metadata": {},
     "output_type": "execute_result"
    }
   ],
   "source": [
    "data.pickup_longitude = data.pickup_longitude.apply(long_reg)\n",
    "data.pickup_latitude = data.pickup_latitude.apply(lat_reg)\n",
    "data.head()"
   ]
  },
  {
   "cell_type": "markdown",
   "metadata": {},
   "source": [
    "Находим регион."
   ]
  },
  {
   "cell_type": "code",
   "execution_count": 16,
   "metadata": {},
   "outputs": [
    {
     "data": {
      "text/html": [
       "<div>\n",
       "<style scoped>\n",
       "    .dataframe tbody tr th:only-of-type {\n",
       "        vertical-align: middle;\n",
       "    }\n",
       "\n",
       "    .dataframe tbody tr th {\n",
       "        vertical-align: top;\n",
       "    }\n",
       "\n",
       "    .dataframe thead th {\n",
       "        text-align: right;\n",
       "    }\n",
       "</style>\n",
       "<table border=\"1\" class=\"dataframe\">\n",
       "  <thead>\n",
       "    <tr style=\"text-align: right;\">\n",
       "      <th></th>\n",
       "      <th>tpep_pickup_datetime</th>\n",
       "      <th>pickup_longitude</th>\n",
       "      <th>pickup_latitude</th>\n",
       "      <th>region</th>\n",
       "    </tr>\n",
       "  </thead>\n",
       "  <tbody>\n",
       "    <tr>\n",
       "      <th>0</th>\n",
       "      <td>2016-05-01</td>\n",
       "      <td>8933.0</td>\n",
       "      <td>-893.0</td>\n",
       "      <td>445707.0</td>\n",
       "    </tr>\n",
       "    <tr>\n",
       "      <th>1</th>\n",
       "      <td>2016-05-01</td>\n",
       "      <td>8843.0</td>\n",
       "      <td>-1251.0</td>\n",
       "      <td>440849.0</td>\n",
       "    </tr>\n",
       "    <tr>\n",
       "      <th>2</th>\n",
       "      <td>2016-05-01</td>\n",
       "      <td>8843.0</td>\n",
       "      <td>-1251.0</td>\n",
       "      <td>440849.0</td>\n",
       "    </tr>\n",
       "    <tr>\n",
       "      <th>3</th>\n",
       "      <td>2016-05-01</td>\n",
       "      <td>8843.0</td>\n",
       "      <td>-2085.0</td>\n",
       "      <td>440015.0</td>\n",
       "    </tr>\n",
       "    <tr>\n",
       "      <th>4</th>\n",
       "      <td>2016-05-01</td>\n",
       "      <td>8753.0</td>\n",
       "      <td>-1251.0</td>\n",
       "      <td>436349.0</td>\n",
       "    </tr>\n",
       "  </tbody>\n",
       "</table>\n",
       "</div>"
      ],
      "text/plain": [
       "  tpep_pickup_datetime  pickup_longitude  pickup_latitude    region\n",
       "0           2016-05-01            8933.0           -893.0  445707.0\n",
       "1           2016-05-01            8843.0          -1251.0  440849.0\n",
       "2           2016-05-01            8843.0          -1251.0  440849.0\n",
       "3           2016-05-01            8843.0          -2085.0  440015.0\n",
       "4           2016-05-01            8753.0          -1251.0  436349.0"
      ]
     },
     "execution_count": 16,
     "metadata": {},
     "output_type": "execute_result"
    }
   ],
   "source": [
    "data['region'] = (data.pickup_longitude - 1)*50.0 + data.pickup_latitude\n",
    "data.head()"
   ]
  },
  {
   "cell_type": "markdown",
   "metadata": {},
   "source": [
    "Аггрегируем данные по часам и регионам."
   ]
  },
  {
   "cell_type": "code",
   "execution_count": 17,
   "metadata": {},
   "outputs": [
    {
     "data": {
      "text/html": [
       "<div>\n",
       "<style scoped>\n",
       "    .dataframe tbody tr th:only-of-type {\n",
       "        vertical-align: middle;\n",
       "    }\n",
       "\n",
       "    .dataframe tbody tr th {\n",
       "        vertical-align: top;\n",
       "    }\n",
       "\n",
       "    .dataframe thead th {\n",
       "        text-align: right;\n",
       "    }\n",
       "</style>\n",
       "<table border=\"1\" class=\"dataframe\">\n",
       "  <thead>\n",
       "    <tr style=\"text-align: right;\">\n",
       "      <th></th>\n",
       "      <th>tpep_pickup_datetime</th>\n",
       "      <th>pickup_longitude</th>\n",
       "      <th>pickup_latitude</th>\n",
       "      <th>region</th>\n",
       "      <th>timestamp</th>\n",
       "    </tr>\n",
       "  </thead>\n",
       "  <tbody>\n",
       "    <tr>\n",
       "      <th>0</th>\n",
       "      <td>2016-05-01</td>\n",
       "      <td>8933.0</td>\n",
       "      <td>-893.0</td>\n",
       "      <td>445707.0</td>\n",
       "      <td>1462060800000000000</td>\n",
       "    </tr>\n",
       "    <tr>\n",
       "      <th>1</th>\n",
       "      <td>2016-05-01</td>\n",
       "      <td>8843.0</td>\n",
       "      <td>-1251.0</td>\n",
       "      <td>440849.0</td>\n",
       "      <td>1462060800000000000</td>\n",
       "    </tr>\n",
       "    <tr>\n",
       "      <th>2</th>\n",
       "      <td>2016-05-01</td>\n",
       "      <td>8843.0</td>\n",
       "      <td>-1251.0</td>\n",
       "      <td>440849.0</td>\n",
       "      <td>1462060800000000000</td>\n",
       "    </tr>\n",
       "    <tr>\n",
       "      <th>3</th>\n",
       "      <td>2016-05-01</td>\n",
       "      <td>8843.0</td>\n",
       "      <td>-2085.0</td>\n",
       "      <td>440015.0</td>\n",
       "      <td>1462060800000000000</td>\n",
       "    </tr>\n",
       "    <tr>\n",
       "      <th>4</th>\n",
       "      <td>2016-05-01</td>\n",
       "      <td>8753.0</td>\n",
       "      <td>-1251.0</td>\n",
       "      <td>436349.0</td>\n",
       "      <td>1462060800000000000</td>\n",
       "    </tr>\n",
       "  </tbody>\n",
       "</table>\n",
       "</div>"
      ],
      "text/plain": [
       "  tpep_pickup_datetime  pickup_longitude  pickup_latitude    region  \\\n",
       "0           2016-05-01            8933.0           -893.0  445707.0   \n",
       "1           2016-05-01            8843.0          -1251.0  440849.0   \n",
       "2           2016-05-01            8843.0          -1251.0  440849.0   \n",
       "3           2016-05-01            8843.0          -2085.0  440015.0   \n",
       "4           2016-05-01            8753.0          -1251.0  436349.0   \n",
       "\n",
       "             timestamp  \n",
       "0  1462060800000000000  \n",
       "1  1462060800000000000  \n",
       "2  1462060800000000000  \n",
       "3  1462060800000000000  \n",
       "4  1462060800000000000  "
      ]
     },
     "execution_count": 17,
     "metadata": {},
     "output_type": "execute_result"
    }
   ],
   "source": [
    "data['timestamp'] = data.tpep_pickup_datetime.apply(lambda x: x.value)\n",
    "data.head()"
   ]
  },
  {
   "cell_type": "code",
   "execution_count": 19,
   "metadata": {},
   "outputs": [],
   "source": [
    "times = np.sort(data.timestamp.unique())\n",
    "times = np.hstack((times, times[-1]+14620608000))"
   ]
  },
  {
   "cell_type": "code",
   "execution_count": 20,
   "metadata": {},
   "outputs": [],
   "source": [
    "times = np.hstack((times[0]-3600000000000,times))"
   ]
  },
  {
   "cell_type": "code",
   "execution_count": 21,
   "metadata": {},
   "outputs": [
    {
     "data": {
      "text/plain": [
       "(746L,)"
      ]
     },
     "execution_count": 21,
     "metadata": {},
     "output_type": "execute_result"
    }
   ],
   "source": [
    "times.shape"
   ]
  },
  {
   "cell_type": "code",
   "execution_count": 22,
   "metadata": {},
   "outputs": [],
   "source": [
    "agg_data = sts.binned_statistic_2d(data.region, data.timestamp, None, 'count', \n",
    "                                   bins=[np.arange(1, 2502), times])"
   ]
  },
  {
   "cell_type": "code",
   "execution_count": 23,
   "metadata": {},
   "outputs": [
    {
     "data": {
      "text/plain": [
       "(array([0.]), array([1862500], dtype=int64))"
      ]
     },
     "execution_count": 23,
     "metadata": {},
     "output_type": "execute_result"
    }
   ],
   "source": [
    "np.unique(agg_data.statistic.ravel(), return_counts=True)"
   ]
  },
  {
   "cell_type": "markdown",
   "metadata": {},
   "source": [
    "Выведем первые строчки полученной таблицы."
   ]
  },
  {
   "cell_type": "markdown",
   "metadata": {},
   "source": [
    "В моем случае строки - это регионы. А в первых регионах не было поездок."
   ]
  },
  {
   "cell_type": "code",
   "execution_count": 24,
   "metadata": {},
   "outputs": [
    {
     "data": {
      "text/plain": [
       "array([0.])"
      ]
     },
     "execution_count": 24,
     "metadata": {},
     "output_type": "execute_result"
    }
   ],
   "source": [
    "np.unique(agg_data.statistic[:10,:])"
   ]
  },
  {
   "cell_type": "markdown",
   "metadata": {},
   "source": [
    "Выведем данные по всем регионам за первый день мая 2016 года."
   ]
  },
  {
   "cell_type": "markdown",
   "metadata": {},
   "source": [
    "Выведем некоторые другие строчки таблицы."
   ]
  },
  {
   "cell_type": "markdown",
   "metadata": {},
   "source": [
    "Видим, что есть регионы в которых преобладают поездки в данный день, а есть регионы, из которых вообще не было поездок"
   ]
  },
  {
   "cell_type": "markdown",
   "metadata": {},
   "source": [
    "Посмотрим на все строчки."
   ]
  },
  {
   "cell_type": "code",
   "execution_count": 25,
   "metadata": {},
   "outputs": [
    {
     "name": "stderr",
     "output_type": "stream",
     "text": [
      "C:\\Python27\\lib\\site-packages\\matplotlib\\cbook\\deprecation.py:107: MatplotlibDeprecationWarning: Adding an axes using the same arguments as a previous axes currently reuses the earlier instance.  In a future version, a new instance will always be created and returned.  Meanwhile, this warning can be suppressed, and the future behavior ensured, by passing a unique label to each axes instance.\n",
      "  warnings.warn(message, mplDeprecation, stacklevel=1)\n"
     ]
    },
    {
     "data": {
      "text/plain": [
       "<matplotlib.colorbar.Colorbar at 0x4aa0fbe0>"
      ]
     },
     "execution_count": 25,
     "metadata": {},
     "output_type": "execute_result"
    },
    {
     "data": {
      "image/png": "[encoded data removed]",
      "text/plain": [
       "<Figure size 1080x720 with 2 Axes>"
      ]
     },
     "metadata": {
      "needs_background": "light"
     },
     "output_type": "display_data"
    }
   ],
   "source": [
    "plt.figure(figsize=(15,10))\n",
    "img = plt.imshow(agg_data.statistic, interpolation='nearest')\n",
    "img.set_cmap('jet')\n",
    "plt.title(\"Number of trips region/hour\")\n",
    "plt.axis('off')\n",
    "plt.ylabel(\"Region\")\n",
    "plt.xlabel(\"Hour\")\n",
    "plt.axes().set_aspect('auto')\n",
    "plt.colorbar()"
   ]
  },
  {
   "cell_type": "markdown",
   "metadata": {},
   "source": [
    "Выделяются 10 регионов, из которых совершалось существенное число поездок. В тоже время имеется большое количество регионов откуда не совершалось поездок."
   ]
  },
  {
   "cell_type": "markdown",
   "metadata": {},
   "source": [
    "Данные о расположении Эмпаир Стэйт Билдинг были взяты отсюда: http://www.latlong.net/place/empire-state-building-new-york-ny-usa-5312.html Находим регион, к которому он относится."
   ]
  },
  {
   "cell_type": "code",
   "execution_count": 26,
   "metadata": {},
   "outputs": [
    {
     "data": {
      "text/plain": [
       "1231"
      ]
     },
     "execution_count": 26,
     "metadata": {},
     "output_type": "execute_result"
    }
   ],
   "source": [
    "empire_latitude = 40.748817\n",
    "empire_longitude = -73.985428\n",
    "empire_region = int(find_reg(empire_longitude, empire_latitude))\n",
    "empire_region"
   ]
  },
  {
   "cell_type": "markdown",
   "metadata": {},
   "source": [
    "Выводим график поездок."
   ]
  },
  {
   "cell_type": "code",
   "execution_count": 27,
   "metadata": {},
   "outputs": [
    {
     "data": {
      "text/plain": [
       "(2500L, 745L)"
      ]
     },
     "execution_count": 27,
     "metadata": {},
     "output_type": "execute_result"
    }
   ],
   "source": [
    "agg_data.statistic.shape"
   ]
  },
  {
   "cell_type": "code",
   "execution_count": 28,
   "metadata": {},
   "outputs": [
    {
     "data": {
      "image/png": "[encoded data removed]",
      "text/plain": [
       "<Figure size 1080x576 with 1 Axes>"
      ]
     },
     "metadata": {
      "needs_background": "light"
     },
     "output_type": "display_data"
    }
   ],
   "source": [
    "plt.figure(figsize=(15,8))\n",
    "plt.plot(np.arange(743), agg_data.statistic[empire_region-1,:743])\n",
    "plt.xlim([0,744])\n",
    "plt.ylabel(\"Number of trips\")\n",
    "plt.xlabel(\"Day-Hour\")\n",
    "plt.title(\"Empire State Building region\");"
   ]
  },
  {
   "cell_type": "markdown",
   "metadata": {},
   "source": [
    "Число ячеек, из которых не было совершено ни одной поездки."
   ]
  },
  {
   "cell_type": "code",
   "execution_count": 29,
   "metadata": {},
   "outputs": [
    {
     "data": {
      "text/plain": [
       "1862500"
      ]
     },
     "execution_count": 29,
     "metadata": {},
     "output_type": "execute_result"
    }
   ],
   "source": [
    "np.unique(agg_data.statistic.ravel(), return_counts=True)[1][0]"
   ]
  },
  {
   "cell_type": "markdown",
   "metadata": {},
   "source": [
    "Таким образом, получили, что из 1718238 ячейки (день-час, регион) не было поездок в мае 2016."
   ]
  },
  {
   "cell_type": "markdown",
   "metadata": {},
   "source": [
    "Сохраняем полученные данные в файл"
   ]
  },
  {
   "cell_type": "code",
   "execution_count": 2,
   "metadata": {
    "collapsed": true
   },
   "outputs": [],
   "source": [
    "import pickle"
   ]
  },
  {
   "cell_type": "code",
   "execution_count": 30,
   "metadata": {},
   "outputs": [],
   "source": [
    "with open('./data/2014/p_c_03.pkl', 'wb') as fid:\n",
    "    pickle.dump(agg_data1.statistic, fid)"
   ]
  },
  {
   "cell_type": "code",
   "execution_count": 65,
   "metadata": {},
   "outputs": [],
   "source": [
    "with open('./data/2014/03.pkl', 'wb') as fid:\n",
    "    pickle.dump(agg_data.statistic, fid)"
   ]
  },
  {
   "cell_type": "code",
   "execution_count": 5,
   "metadata": {},
   "outputs": [],
   "source": [
    "with open('./data/2016/p_c_06.pkl', 'rb') as fid:\n",
    "    sts = pickle.load(fid)"
   ]
  },
  {
   "cell_type": "code",
   "execution_count": 10,
   "metadata": {},
   "outputs": [
    {
     "data": {
      "text/plain": [
       "[<matplotlib.lines.Line2D at 0x1175b470>]"
      ]
     },
     "execution_count": 10,
     "metadata": {},
     "output_type": "execute_result"
    },
    {
     "data": {
      "image/png": "[encoded data removed]",
      "text/plain": [
       "<matplotlib.figure.Figure at 0xfcf0a90>"
      ]
     },
     "metadata": {},
     "output_type": "display_data"
    }
   ],
   "source": [
    "plt.figure(figsize=(15,8))\n",
    "plt.plot(sts[1231,:743])"
   ]
  },
  {
   "cell_type": "code",
   "execution_count": null,
   "metadata": {
    "collapsed": true
   },
   "outputs": [],
   "source": []
  }
 ],
 "metadata": {
  "kernelspec": {
   "display_name": "Python 2",
   "language": "python",
   "name": "python2"
  },
  "language_info": {
   "codemirror_mode": {
    "name": "ipython",
    "version": 2
   },
   "file_extension": ".py",
   "mimetype": "text/x-python",
   "name": "python",
   "nbconvert_exporter": "python",
   "pygments_lexer": "ipython2",
   "version": "2.7.15"
  }
 },
 "nbformat": 4,
 "nbformat_minor": 1
}
